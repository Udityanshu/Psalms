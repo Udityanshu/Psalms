{
 "cells": [
  {
   "cell_type": "code",
   "execution_count": 1,
   "metadata": {},
   "outputs": [],
   "source": [
    "import numpy as np"
   ]
  },
  {
   "cell_type": "code",
   "execution_count": 9,
   "metadata": {},
   "outputs": [],
   "source": [
    "actual = np.array([1,2,3,1,3,4])\n",
    "pred = np.array([1,4,5,1,1,10])\n"
   ]
  },
  {
   "cell_type": "code",
   "execution_count": 5,
   "metadata": {},
   "outputs": [],
   "source": [
    "#MSE\n",
    "\n",
    "def mse(actual, pred):\n",
    "    diff = actual -  pred\n",
    "    diffSQd = diff*diff\n",
    "    diffSQdMean = diffSQd.mean()\n",
    "    mse = np.sqrt(diffSQdMean)\n",
    "    return mse"
   ]
  },
  {
   "cell_type": "code",
   "execution_count": 6,
   "metadata": {},
   "outputs": [
    {
     "data": {
      "text/plain": [
       "1.4142135623730951"
      ]
     },
     "execution_count": 6,
     "metadata": {},
     "output_type": "execute_result"
    }
   ],
   "source": [
    "mse(actual, pred)"
   ]
  },
  {
   "cell_type": "code",
   "execution_count": 10,
   "metadata": {},
   "outputs": [],
   "source": [
    "#MAE\n",
    "\n",
    "def mae(actual, pred):\n",
    "    diff = actual -  pred\n",
    "    diffAbs = np.absolute(diff)\n",
    "    mae = diffAbs.mean()\n",
    "    return mae"
   ]
  },
  {
   "cell_type": "code",
   "execution_count": 11,
   "metadata": {},
   "outputs": [
    {
     "data": {
      "text/plain": [
       "2.0"
      ]
     },
     "execution_count": 11,
     "metadata": {},
     "output_type": "execute_result"
    }
   ],
   "source": [
    "mae(actual, pred)"
   ]
  },
  {
   "cell_type": "code",
   "execution_count": null,
   "metadata": {},
   "outputs": [],
   "source": [
    "predictions = np.array([[0.25,0.25,0.25,0.25],\n",
    "                        [0.01,0.01,0.01,0.96]])"
   ]
  },
  {
   "cell_type": "code",
   "execution_count": 27,
   "metadata": {},
   "outputs": [],
   "source": [
    "# LogLosss or CrossEndropy Loss \n",
    "#ll = y*log(yHat) + (1- y)*log(1-yHat)\n",
    "predictions = np.array([\n",
    "            [1, 3, 4, 5, 6, 1, 2, 4]\n",
    "            ])\n",
    "target = np.array([\n",
    "            [0, 0, 1, 0, 0, 1, 0, 0]\n",
    "            ])"
   ]
  },
  {
   "cell_type": "code",
   "execution_count": 23,
   "metadata": {},
   "outputs": [],
   "source": [
    "def sigmoid(x):\n",
    "    return 1.0/(1 + np.exp(-x))"
   ]
  },
  {
   "cell_type": "code",
   "execution_count": 69,
   "metadata": {},
   "outputs": [],
   "source": [
    "def cross_entropy(predictions, target):\n",
    "    pred = sigmoid(predictions)\n",
    "    N = pred.shape[0]\n",
    "    ce_loss = -np.sum((target * np.log(pred) + (1 - target) * np.log(1 - pred))/N)\n",
    "    return ce_loss"
   ]
  },
  {
   "cell_type": "code",
   "execution_count": 70,
   "metadata": {},
   "outputs": [
    {
     "data": {
      "text/plain": [
       "21.847529627115698"
      ]
     },
     "execution_count": 70,
     "metadata": {},
     "output_type": "execute_result"
    }
   ],
   "source": [
    "cross_entropy(predictions, target)\n"
   ]
  },
  {
   "cell_type": "code",
   "execution_count": 109,
   "metadata": {},
   "outputs": [
    {
     "data": {
      "text/plain": [
       "{1, 2, 4}"
      ]
     },
     "execution_count": 109,
     "metadata": {},
     "output_type": "execute_result"
    }
   ],
   "source": [
    "label = np.array([1,1,2,4,1,1,1,2,2,])\n",
    "labelUni = set(label)\n",
    "labelUni"
   ]
  },
  {
   "cell_type": "code",
   "execution_count": 129,
   "metadata": {},
   "outputs": [],
   "source": [
    "import math\n",
    "\n",
    "def ShanonEntropy():\n",
    "    entropy = 0\n",
    "    labelArr = np.array([1,1,2,4,1,1,1,2,2,])\n",
    "    labelUni = set(label)\n",
    "    \n",
    "    labelCount={}  \n",
    "    \n",
    "    for lbl1 in labelArr:\n",
    "        if lbl1 not in labelCount.keys():\n",
    "            labelCount[lbl1] = 0\n",
    "        labelCount[lbl1] += 1        \n",
    "    \n",
    "    for lbl2 in labelUni:\n",
    "        prob = labelCount[lbl2]/len(labelArr)\n",
    "        entropy += -np.sum(prob*math.log(prob))\n",
    "        \n",
    "    return(entropy)"
   ]
  },
  {
   "cell_type": "code",
   "execution_count": 119,
   "metadata": {},
   "outputs": [
    {
     "data": {
      "text/plain": [
       "0.936888307539016"
      ]
     },
     "execution_count": 119,
     "metadata": {},
     "output_type": "execute_result"
    }
   ],
   "source": [
    "ShanonEntropy()"
   ]
  },
  {
   "cell_type": "code",
   "execution_count": 127,
   "metadata": {},
   "outputs": [],
   "source": [
    "def Gini():\n",
    "    \n",
    "    gini = 0\n",
    "    labelArr = np.array([1,1,2,4,1,1,1,2,2,])\n",
    "    labelUni = set(label)\n",
    "    \n",
    "    labelCount={}  \n",
    "    \n",
    "    for lbl1 in labelArr:\n",
    "        if lbl1 not in labelCount.keys():\n",
    "            labelCount[lbl1] = 0\n",
    "        labelCount[lbl1] += 1        \n",
    "    \n",
    "    for lbl2 in labelUni:\n",
    "        prob = labelCount[lbl2]/len(labelArr)\n",
    "        gini += prob*prob\n",
    "\n",
    "    return(1 - gini)"
   ]
  },
  {
   "cell_type": "code",
   "execution_count": 128,
   "metadata": {},
   "outputs": [
    {
     "data": {
      "text/plain": [
       "0.5679012345679012"
      ]
     },
     "execution_count": 128,
     "metadata": {},
     "output_type": "execute_result"
    }
   ],
   "source": [
    "Gini()"
   ]
  },
  {
   "cell_type": "code",
   "execution_count": 131,
   "metadata": {},
   "outputs": [],
   "source": [
    "def hinge_loss(yHat, y):\n",
    "    return np.max(0, 1 - yHat * y)"
   ]
  },
  {
   "cell_type": "code",
   "execution_count": 153,
   "metadata": {},
   "outputs": [],
   "source": [
    "yHat = np.array([0.8, 0.1, 1, 0, -1])\n",
    "y = np.array([1, 1, 0, 1, 0.1])"
   ]
  },
  {
   "cell_type": "code",
   "execution_count": 162,
   "metadata": {},
   "outputs": [
    {
     "data": {
      "text/plain": [
       "4.2"
      ]
     },
     "execution_count": 162,
     "metadata": {},
     "output_type": "execute_result"
    }
   ],
   "source": [
    "diff = 1 - yHat * y\n",
    "diff[diff<0] = 0\n",
    "np.sum(diff)"
   ]
  },
  {
   "cell_type": "code",
   "execution_count": null,
   "metadata": {},
   "outputs": [],
   "source": []
  }
 ],
 "metadata": {
  "kernelspec": {
   "display_name": "Python 3",
   "language": "python",
   "name": "python3"
  },
  "language_info": {
   "codemirror_mode": {
    "name": "ipython",
    "version": 3
   },
   "file_extension": ".py",
   "mimetype": "text/x-python",
   "name": "python",
   "nbconvert_exporter": "python",
   "pygments_lexer": "ipython3",
   "version": "3.6.7"
  }
 },
 "nbformat": 4,
 "nbformat_minor": 2
}
