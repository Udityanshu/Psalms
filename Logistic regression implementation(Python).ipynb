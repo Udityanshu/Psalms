{
 "cells": [
  {
   "cell_type": "code",
   "execution_count": 142,
   "metadata": {},
   "outputs": [],
   "source": [
    "from numpy import *\n",
    "\n",
    "dataArr = []; labelArr = []\n",
    "fr = open('testSet.txt')\n",
    "for line in fr.readlines():\n",
    "    lineArr = line.strip().split()\n",
    "    dataArr.append([1.0, float(lineArr[0]), float(lineArr[1])])\n",
    "    labelArr.append(int(lineArr[2]))"
   ]
  },
  {
   "cell_type": "code",
   "execution_count": 168,
   "metadata": {},
   "outputs": [
    {
     "data": {
      "text/plain": [
       "(100, 3)"
      ]
     },
     "execution_count": 168,
     "metadata": {},
     "output_type": "execute_result"
    }
   ],
   "source": [
    "shape(dataArr)"
   ]
  },
  {
   "cell_type": "code",
   "execution_count": 144,
   "metadata": {},
   "outputs": [],
   "source": [
    "#sigmoid\n",
    "def sigmoid(x):\n",
    "    return 1.00/(1 + exp(-x))"
   ]
  },
  {
   "cell_type": "code",
   "execution_count": 145,
   "metadata": {},
   "outputs": [
    {
     "data": {
      "text/plain": [
       "3"
      ]
     },
     "execution_count": 145,
     "metadata": {},
     "output_type": "execute_result"
    }
   ],
   "source": [
    "m,n = shape(dataMatrix)\n",
    "n"
   ]
  },
  {
   "cell_type": "code",
   "execution_count": 227,
   "metadata": {},
   "outputs": [
    {
     "name": "stdout",
     "output_type": "stream",
     "text": [
      "[[ 3.06486267]\n",
      " [ 0.38599492]\n",
      " [-0.48439698]]\n"
     ]
    }
   ],
   "source": [
    "#gradAscent\n",
    "dataMatrix = []\n",
    "labelMatrix = [] \n",
    "\n",
    "dataMatrix = mat(dataArr)  \n",
    "labelMatrix = mat(labelArr).transpose()\n",
    "m,n = shape(dataMatrix)\n",
    "alpha = 0.001\n",
    "maxCycles = 250      \n",
    "weights = ones((n,1))\n",
    "\n",
    "for k in range(maxCycles):\n",
    "    h = sigmoid(dataMatrix*weights) \n",
    "    error = (labelMatrix - h)\n",
    "    weights = weights + alpha * dataMatrix.transpose() * error \n",
    "\n",
    "print(weights)\n"
   ]
  },
  {
   "cell_type": "code",
   "execution_count": 235,
   "metadata": {},
   "outputs": [
    {
     "data": {
      "image/png": "[encoded data removed]",
      "text/plain": [
       "<matplotlib.figure.Figure at 0x114617128>"
      ]
     },
     "metadata": {},
     "output_type": "display_data"
    }
   ],
   "source": [
    "#Decision boundaries\n",
    "\n",
    "import matplotlib.pyplot as plt\n",
    "dataArr = array(dataArr)\n",
    "n = shape(dataArr)[0] \n",
    "weight = weights.getA()\n",
    "xcord1 = []; ycord1 = []\n",
    "xcord2 = []; ycord2 = []\n",
    "\n",
    "for i in range(n):\n",
    "    if int(labelArr[i])== 1:\n",
    "        xcord1.append(dataArr[i,1]); ycord1.append(dataArr[i,2])\n",
    "    else:\n",
    "        xcord2.append(dataArr[i,1]); ycord2.append(dataArr[i,2])\n",
    "fig = plt.figure()\n",
    "ax = fig.add_subplot(111)\n",
    "\n",
    "ax.scatter(xcord1, ycord1, s=30, c='red', marker='s')\n",
    "ax.scatter(xcord2, ycord2, s=30, c='green')\n",
    "\n",
    "#The hypothesis for logistics regression takes the form of:\n",
    "\n",
    "#hθ=g(z)\n",
    "#where, g(z) is the sigmoid function and where z is of the form:\n",
    "#\n",
    "#z=θ0+θ1x1+θ2x2\n",
    "#Given we are classifying between 0 and 1, y=1 when hθ≥0.5 which given the sigmoid function is true when:\n",
    "#\n",
    "#θ0+θ1x1+θ2x2≥0\n",
    "#the above is the decision boundary and can be rearranged as:\n",
    "#\n",
    "#x2≥−θ0/θ2+−θ1θ2\n",
    "\n",
    "x = arange(-10.0, 10.0, 0.1)\n",
    "y = (-weight[0]-weight[1]*x)/weight[2]\n",
    "ax.plot(x, y)\n",
    "plt.xlabel('X1'); plt.ylabel('X2');\n",
    "plt.show()\n"
   ]
  },
  {
   "cell_type": "code",
   "execution_count": 313,
   "metadata": {},
   "outputs": [
    {
     "data": {
      "image/png": "[encoded data removed]",
      "text/plain": [
       "<matplotlib.figure.Figure at 0x114126748>"
      ]
     },
     "metadata": {},
     "output_type": "display_data"
    }
   ],
   "source": [
    "#Ploting a line\n",
    "x = arange(-4.0, 4.0, 0.1)\n",
    "y = (-weight[0]-weight[1]*x)/weight[2]\n",
    "plt.plot(x, y)\n",
    "plt.xlabel('X1'); plt.ylabel('X2');\n",
    "plt.show()"
   ]
  },
  {
   "cell_type": "code",
   "execution_count": 236,
   "metadata": {},
   "outputs": [],
   "source": [
    "def stocGradAscent0(dataMatrix, classLabels):\n",
    "    m,n = shape(dataMatrix)\n",
    "    alpha = 0.01\n",
    "    weights = ones(n)   #initialize to all ones\n",
    "    for i in range(m):\n",
    "        h = sigmoid(sum(dataMatrix[i]*weights))\n",
    "        error = classLabels[i] - h\n",
    "        weights = weights + alpha * error * dataMatrix[i]\n",
    "    return weights"
   ]
  },
  {
   "cell_type": "code",
   "execution_count": 239,
   "metadata": {},
   "outputs": [],
   "source": [
    "weights=stocGradAscent0(array(dataArr),labelArr)"
   ]
  },
  {
   "cell_type": "code",
   "execution_count": 240,
   "metadata": {},
   "outputs": [
    {
     "data": {
      "text/plain": [
       "array([ 1.01702007,  0.85914348, -0.36579921])"
      ]
     },
     "execution_count": 240,
     "metadata": {},
     "output_type": "execute_result"
    }
   ],
   "source": [
    "weights"
   ]
  },
  {
   "cell_type": "code",
   "execution_count": 241,
   "metadata": {},
   "outputs": [],
   "source": [
    "def plotBestFit(weights):\n",
    "    import matplotlib.pyplot as plt\n",
    "    dataMat,labelMat=loadDataSet()\n",
    "    dataArr = array(dataMat)\n",
    "    n = shape(dataArr)[0] \n",
    "    xcord1 = []; ycord1 = []\n",
    "    xcord2 = []; ycord2 = []\n",
    "    for i in range(n):\n",
    "        if int(labelMat[i])== 1:\n",
    "            xcord1.append(dataArr[i,1]); ycord1.append(dataArr[i,2])\n",
    "        else:\n",
    "            xcord2.append(dataArr[i,1]); ycord2.append(dataArr[i,2])\n",
    "    fig = plt.figure()\n",
    "    ax = fig.add_subplot(111)\n",
    "    ax.scatter(xcord1, ycord1, s=30, c='red', marker='s')\n",
    "    ax.scatter(xcord2, ycord2, s=30, c='green')\n",
    "    x = arange(-3.0, 3.0, 0.1)\n",
    "    y = (-weights[0]-weights[1]*x)/weights[2]\n",
    "    ax.plot(x, y)\n",
    "    plt.xlabel('X1'); plt.ylabel('X2');\n",
    "    plt.show()"
   ]
  },
  {
   "cell_type": "code",
   "execution_count": 242,
   "metadata": {},
   "outputs": [
    {
     "data": {
      "image/png": "[encoded data removed]",
      "text/plain": [
       "<matplotlib.figure.Figure at 0x114613be0>"
      ]
     },
     "metadata": {},
     "output_type": "display_data"
    }
   ],
   "source": [
    "plotBestFit(weights)"
   ]
  },
  {
   "cell_type": "code",
   "execution_count": 250,
   "metadata": {},
   "outputs": [],
   "source": [
    "def classifyVector(inX, weights):\n",
    "    prob = sigmoid(sum(inX*weights))\n",
    "    if prob > 0.5: return 1.0\n",
    "    else: return 0.0"
   ]
  },
  {
   "cell_type": "code",
   "execution_count": 314,
   "metadata": {},
   "outputs": [
    {
     "name": "stdout",
     "output_type": "stream",
     "text": [
      "42,51,75,76,78,78,78,78,78,78,78,78,78,78,78,79,80,80,81,81,81,81,82,83,83,83,83,83,83,83,84,84,84,84,84,85,85,85,86,86,86,86,86,86,86,86,86,86,85,85,85,85,86,86,86,86,86,86,86,86,88,88,88,88,88,89,89,89,89,89,89,90,90,90,90,90,90,90,90,90,90,90,90,90,90,90,90,90,90,90,90,90,90,90,90,90,90,90,90,90\n"
     ]
    }
   ],
   "source": [
    "#How fast GradAscent converging got min calasfication train error\n",
    "dataMatrix = []\n",
    "labelMatrix = [] \n",
    "\n",
    "dataMatrix = mat(dataArr)  \n",
    "labelMatrix = mat(labelArr).transpose()\n",
    "m,n = shape(dataMatrix)\n",
    "alpha = 0.001\n",
    "maxCycles = 100      \n",
    "weights = ones((n,1))\n",
    "\n",
    "winCount = []; \n",
    "\n",
    "for k in range(maxCycles):\n",
    "    \n",
    "    numRec = 0;\n",
    "    wCount = 0;\n",
    "    \n",
    "    h = sigmoid(dataMatrix*weights) \n",
    "    error = (labelMatrix - h)\n",
    "    weights = weights + alpha * dataMatrix.transpose() * error \n",
    "        \n",
    "    for lineArr in dataArr:\n",
    "        if classifyVector(lineArr, weights) == labelArr[numRec]:\n",
    "            wCount += 1;  \n",
    "        numRec += 1;\n",
    "    winCount.append(str(wCount))\n",
    "        \n",
    "print(','.join(winCount))       \n"
   ]
  },
  {
   "cell_type": "code",
   "execution_count": null,
   "metadata": {},
   "outputs": [],
   "source": []
  }
 ],
 "metadata": {
  "kernelspec": {
   "display_name": "Python 3",
   "language": "python",
   "name": "python3"
  },
  "language_info": {
   "codemirror_mode": {
    "name": "ipython",
    "version": 3
   },
   "file_extension": ".py",
   "mimetype": "text/x-python",
   "name": "python",
   "nbconvert_exporter": "python",
   "pygments_lexer": "ipython3",
   "version": "3.6.4"
  }
 },
 "nbformat": 4,
 "nbformat_minor": 2
}
