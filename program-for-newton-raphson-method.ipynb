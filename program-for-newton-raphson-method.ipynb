{
 "cells": [
  {
   "cell_type": "markdown",
   "metadata": {},
   "source": [
    "https://www.geeksforgeeks.org/program-for-newton-raphson-method/\n"
   ]
  },
  {
   "cell_type": "code",
   "execution_count": null,
   "metadata": {},
   "outputs": [],
   "source": [
    "def fun_opt(x):\n",
    "    return x * x * x - x * x + 2"
   ]
  },
  {
   "cell_type": "code",
   "execution_count": 28,
   "metadata": {},
   "outputs": [],
   "source": [
    "def fun_opt_der(x):\n",
    "    return 3 * x * x - 2 * x"
   ]
  },
  {
   "cell_type": "code",
   "execution_count": 31,
   "metadata": {},
   "outputs": [],
   "source": [
    "def newton_ref(x):\n",
    "    h = fun_opt(x)/fun_opt_der(x)\n",
    "    while abs(h) >= 0.0001:\n",
    "        h = fun_opt(x)/fun_opt_der(x)\n",
    "        x = x - h\n",
    "        print(x)"
   ]
  },
  {
   "cell_type": "code",
   "execution_count": 32,
   "metadata": {},
   "outputs": [
    {
     "name": "stdout",
     "output_type": "stream",
     "text": [
      "2\n",
      "-13.227419354838709\n",
      "-8.716127265539962\n",
      "-5.715686860871689\n",
      "-3.729227958342401\n",
      "-2.43255863785565\n",
      "-1.622923986083026\n",
      "-1.1826032618851028\n",
      "-1.0221850914414865\n",
      "-1.0003843536579045\n",
      "-1.0000001181322415\n",
      "-1.000000000000011\n"
     ]
    }
   ],
   "source": [
    "print(2)\n",
    "x0 = -20 # Initial values assumed \n",
    "newton_ref(x0) "
   ]
  },
  {
   "cell_type": "code",
   "execution_count": null,
   "metadata": {},
   "outputs": [],
   "source": []
  }
 ],
 "metadata": {
  "kernelspec": {
   "display_name": "Python 3",
   "language": "python",
   "name": "python3"
  },
  "language_info": {
   "codemirror_mode": {
    "name": "ipython",
    "version": 3
   },
   "file_extension": ".py",
   "mimetype": "text/x-python",
   "name": "python",
   "nbconvert_exporter": "python",
   "pygments_lexer": "ipython3",
   "version": "3.6.7"
  }
 },
 "nbformat": 4,
 "nbformat_minor": 2
}
